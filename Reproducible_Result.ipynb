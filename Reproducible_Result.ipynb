{
 "cells": [
  {
   "cell_type": "markdown",
   "metadata": {},
   "source": [
    "# Sampling the Formation Energy of a Phosphorus Interstitial in an InP Bulk\n",
    "An interstitial is a point defect in a bulk crystal structure where an extra atom becomes trapped in an off-lattice site, producing a strain field in the surrounding bulk crystal. The formation energy can be calculated by looking at the energy difference between a configuration containing the point defect, and a reference bulk crystal (accounting for any change in the number of atoms).\n",
    "\n",
    "The Gaussian Approximation Potentials (GAP) model (provided) is capable of making predictions of the probability distributions on any quantity of interest (provided that quantity is a function of energies, forces, and/or stresses). \n",
    "\n",
    "\"GAP_Interfaces.py\" contains two different means of using the potential: \n",
    "\n",
    "\"GapQUIP\" is a wrapper to the QUantum Interatomic Potentials (QUIP) implementation of GAP in Python-wrapped Fortran. It can predict the mean and variance of the energy of each atom in a structure, assuming that the atomic energies are independantly distributed.\n",
    "\n",
    "\"GapPy\" is a Python only implementation of just the atomic energy prediction component of GAP, but with it we are able to predict a full covariance matrix corresponding to the atomic energies, which is derived from the covariance matrices of all bonds, and the covariance matrices between all SOAP vectors.\n",
    "\n",
    "\n",
    "The aim of this notebook is to explore how well the GAP model matches DFT predictions, and also to see how well the distribution formed from QUIP predicted variances approximates the \"true\" distribution formed by samples from the \"GapPy\" predicted mean vector and covariance matrix of atomic energies for each structure."
   ]
  },
  {
   "cell_type": "code",
   "execution_count": 1,
   "metadata": {},
   "outputs": [
    {
     "name": "stdout",
     "output_type": "stream",
     "text": [
      "WARNING: Potential_initialise using default init_args \"Potential xml_label=GAP_2022_8_9_60_15_2_30_787\"\n"
     ]
    }
   ],
   "source": [
    "from ase.io import read\n",
    "import numpy as np\n",
    "import matplotlib.pyplot as plt\n",
    "from GAP_Interfaces import GapPy, GapQUIP\n",
    "from scipy.stats import norm\n",
    "\n",
    "\n",
    "# Initialise the QUIP ase calculator\n",
    "gap_calc = GapQUIP()\n"
   ]
  },
  {
   "cell_type": "markdown",
   "metadata": {},
   "source": [
    "First, we read the structures, and find the DFT predictions (included in the .xyz files). Then, we use the QUIP calculator to make a prediction of the total energies, and also read off the predicted variance (stored in the extra_results dict, you need to use calc_args='local_gap_variance' on the quippy Potential in order for this to be stored).~"
   ]
  },
  {
   "cell_type": "code",
   "execution_count": 2,
   "metadata": {},
   "outputs": [
    {
     "name": "stdout",
     "output_type": "stream",
     "text": [
      "WARNING: Potential_calc: cutoff of Atoms object (-1.0000000000000000) < Potential cutoff (5.0000000000000000) - increasing it now\n"
     ]
    }
   ],
   "source": [
    "# Read in structures\n",
    "reference = read(\"InP_Bulk.xyz\")\n",
    "n = len(reference)\n",
    "\n",
    "DFT_ref = reference.get_potential_energy()\n",
    "\n",
    "reference.calc = gap_calc\n",
    "\n",
    "GAP_ref = reference.get_potential_energy()\n",
    "\n",
    "# Grab GAP approximation of the total energy variance\n",
    "GAP_var_ref = np.sum(gap_calc.extra_results[\"atoms\"][\"local_gap_variance\"])\n",
    "\n",
    "defect = read(\"P_Interstitial.xyz\")\n",
    "dft_defect = defect.get_potential_energy()\n",
    "\n",
    "defect.calc = gap_calc\n",
    "GAP_defect = defect.get_potential_energy()\n",
    "\n",
    "# Grab GAP approximation of the total energy variance\n",
    "GAP_var_defect = np.sum(gap_calc.extra_results[\"atoms\"][\"local_gap_variance\"])\n",
    "\n",
    "\n",
    "raw_defect_cov = gap_calc.extra_results[\"atoms\"][\"local_gap_variance\"]\n"
   ]
  },
  {
   "cell_type": "markdown",
   "metadata": {},
   "source": [
    "Next, we instantiate the Python implementation of GAP, and predict the multivariate normal distributions on the atomic energies of both structures"
   ]
  },
  {
   "cell_type": "code",
   "execution_count": 3,
   "metadata": {},
   "outputs": [],
   "source": [
    "# Initialise Python GAP model (from GAP_Interfaces.py)\n",
    "gap = GapPy(\"GAP\", \"InP_GAP.xml\", sigma=0.001)\n",
    "\n",
    "\n",
    "# Predict the atomic energy per atom, and a covariance matrix associated with the prediction\n",
    "# for both reference and defect configurations\n",
    "E_ref, cov_ref = gap.predict_energy(reference)\n",
    "E_defect, cov_defect = gap.predict_energy(defect)"
   ]
  },
  {
   "cell_type": "markdown",
   "metadata": {},
   "source": [
    "Now, we draw samples of both distributions (summing across atoms to predict total energies)"
   ]
  },
  {
   "cell_type": "code",
   "execution_count": 4,
   "metadata": {},
   "outputs": [],
   "source": [
    "# Number of samples of each energy to generate\n",
    "num_samples = 5000\n",
    "\n",
    "# Sample the total energy of each config by sampling from the multivariate normal distribution on the atomic energies\n",
    "bulk_samples = np.random.multivariate_normal(mean=E_ref, cov=cov_ref, size=(num_samples)).sum(axis=-1)\n",
    "\n",
    "defect_samples = np.random.multivariate_normal(mean=E_defect, cov=cov_defect, size=(num_samples)).sum(axis=-1)\n"
   ]
  },
  {
   "cell_type": "markdown",
   "metadata": {},
   "source": [
    "Finally, we calculate a measure of the formation energy for each method, and compare the results."
   ]
  },
  {
   "cell_type": "code",
   "execution_count": 14,
   "metadata": {},
   "outputs": [
    {
     "data": {
      "image/png": "[encoded data removed]",
      "text/plain": [
       "<Figure size 432x288 with 1 Axes>"
      ]
     },
     "metadata": {
      "needs_background": "light"
     },
     "output_type": "display_data"
    },
    {
     "name": "stdout",
     "output_type": "stream",
     "text": [
      "DFT Predicted Formation Energy:  2.5166489833845844  eV\n",
      "QUIP Predicted Formation Energy:  2.453841334130459  +-  0.3455165601011708  eV\n",
      "Sampling Predicted Formation Energy:  2.459490743740021  +-  0.4177265432652351  eV\n"
     ]
    }
   ],
   "source": [
    "# Calculate formation energies as predicted by our samples\n",
    "\n",
    "E_formations = defect_samples * n/(n+1) - bulk_samples\n",
    "\n",
    "DFT_formation = dft_defect * n/(n+1) - DFT_ref\n",
    "\n",
    "GAP_formation = GAP_defect * n/(n+1) - GAP_ref\n",
    "var_gap_formation = (GAP_var_defect * (n/(n+1))**2 + GAP_var_ref) * n\n",
    "\n",
    "# DFT Prediction (\"True\" value)\n",
    "plt.vlines(DFT_formation, 0, 2, color=\"k\", linestyles=\"dashed\")\n",
    "\n",
    "# GAP (QUIP) prediction\n",
    "x = np.linspace(GAP_formation - 10*var_gap_formation, GAP_formation + 10*var_gap_formation, 1000)\n",
    "dist= norm.pdf(x, loc=GAP_formation, scale=2*var_gap_formation)\n",
    "plt.plot(x, dist, color=\"C1\", label=\"GAP Predicted PDF\")\n",
    "plt.fill_between(x, 0, dist, color=\"C1\", alpha=0.3)\n",
    "\n",
    "# Prediction via sampling\n",
    "plt.hist(E_formations, bins=int(num_samples/50), density=True, label=\"Sampling Predicted PDF\")\n",
    "\n",
    "\n",
    "\n",
    "plt.legend()\n",
    "plt.xlabel(\"Defect Formation Energy (eV)\")\n",
    "plt.ylabel(\"PDF(x)\")\n",
    "plt.title(\"Predicted distribution of the formation energy of a P point defect\")\n",
    "plt.show()\n",
    "\n",
    "\n",
    "print(\"DFT Predicted Formation Energy: \", DFT_formation, \" eV\")\n",
    "print(\"QUIP Predicted Formation Energy: \", GAP_formation, ' +- ', 2*var_gap_formation, \" eV\")\n",
    "print(\"Sampling Predicted Formation Energy: \", np.average(E_formations), \" +- \", np.std(E_formations), \" eV\")"
   ]
  },
  {
   "cell_type": "code",
   "execution_count": null,
   "metadata": {},
   "outputs": [],
   "source": []
  }
 ],
 "metadata": {
  "kernelspec": {
   "display_name": "Python 3.8.10 64-bit",
   "language": "python",
   "name": "python3"
  },
  "language_info": {
   "codemirror_mode": {
    "name": "ipython",
    "version": 3
   },
   "file_extension": ".py",
   "mimetype": "text/x-python",
   "name": "python",
   "nbconvert_exporter": "python",
   "pygments_lexer": "ipython3",
   "version": "2.7.5"
  },
  "orig_nbformat": 4,
  "vscode": {
   "interpreter": {
    "hash": "e7370f93d1d0cde622a1f8e1c04877d8463912d04d973331ad4851f04de6915a"
   }
  }
 },
 "nbformat": 4,
 "nbformat_minor": 2
}
